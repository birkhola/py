{
 "cells": [
  {
   "cell_type": "markdown",
   "metadata": {},
   "source": [
    "# Flood Fill"
   ]
  },
  {
   "cell_type": "code",
   "execution_count": 1,
   "metadata": {},
   "outputs": [],
   "source": [
    "from enum import Enum\n",
    "from typing import List"
   ]
  },
  {
   "cell_type": "code",
   "execution_count": 2,
   "metadata": {},
   "outputs": [],
   "source": [
    "class Color(Enum):\n",
    "    BLACK = 0\n",
    "    WHITE = 1"
   ]
  },
  {
   "cell_type": "code",
   "execution_count": 4,
   "metadata": {},
   "outputs": [],
   "source": [
    "def flood_fill(buf: List[List[Color]], start_x: int, start_y: int, fill_color: Color):\n",
    "    return"
   ]
  },
  {
   "cell_type": "code",
   "execution_count": null,
   "metadata": {},
   "outputs": [],
   "source": []
  },
  {
   "cell_type": "markdown",
   "metadata": {},
   "source": [
    "....................\n",
    "....................\n",
    ".....xxxxx..........\n",
    ".....x...x.xxxx.....\n",
    ".....x...xxx..x.....\n",
    ".....x........x.....\n",
    "......x.......x.....\n",
    ".......x......x.....\n",
    "........x....x......\n",
    ".......x....x.......\n",
    "......x....x........\n",
    "......xxxxx.........\n",
    "....................\n",
    "....................\n",
    "\n",
    "....................\n",
    "....................\n",
    ".....xxxxx..........\n",
    ".....xxxxx.xxxx.....\n",
    ".....xxxxxxxxxx.....\n",
    ".....xxxxxxxxxx.....\n",
    "......xxxxxxxxx.....\n",
    ".......xxxxxxxx.....\n",
    "........xxxxxx......\n",
    ".......xxxxxx.......\n",
    "......xxxxxx........\n",
    "......xxxxx.........\n",
    "....................\n",
    "....................\n",
    "\n",
    "xxxxxxxxxxxxxxxxxxxx\n",
    "xxxxxxxxxxxxxxxxxxxx\n",
    "xxxxxxxxxxxxxxxxxxxx\n",
    "xxxxxx...xxxxxxxxxxx\n",
    "xxxxxx...xxx..xxxxxx\n",
    "xxxxxx........xxxxxx\n",
    "xxxxxxx.......xxxxxx\n",
    "xxxxxxxx......xxxxxx\n",
    "xxxxxxxxx....xxxxxxx\n",
    "xxxxxxxx....xxxxxxxx\n",
    "xxxxxxx....xxxxxxxxx\n",
    "xxxxxxxxxxxxxxxxxxxx\n",
    "xxxxxxxxxxxxxxxxxxxx\n",
    "xxxxxxxxxxxxxxxxxxxx"
   ]
  }
 ],
 "metadata": {
  "kernelspec": {
   "display_name": "Python 3 (ipykernel)",
   "language": "python",
   "name": "python3"
  },
  "language_info": {
   "codemirror_mode": {
    "name": "ipython",
    "version": 3
   },
   "file_extension": ".py",
   "mimetype": "text/x-python",
   "name": "python",
   "nbconvert_exporter": "python",
   "pygments_lexer": "ipython3",
   "version": "3.7.12"
  }
 },
 "nbformat": 4,
 "nbformat_minor": 4
}
