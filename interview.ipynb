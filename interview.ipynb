{
 "cells": [
  {
   "cell_type": "markdown",
   "metadata": {},
   "source": [
    "# Flood Fill"
   ]
  },
  {
   "cell_type": "markdown",
   "metadata": {},
   "source": [
    "# What is the task?\n",
    "\n",
    "You should come up with an idea and in optimal case with a couple of lines of code for implementing the very basic flood fill algorithm.\n",
    "\n",
    "It works like this:\n",
    "\n",
    "You get a 2-dimensional buffer which have a color (in this example only black and white) and a starting point (x,y) in that buffer.\n",
    "The algorithm should fill the buffer.\n",
    "\n",
    "Conditions:\n",
    "\n",
    "* If it is a closed shape and the starting point is inside the shape then it should fill the inside of the shape (picture 2 below).\n",
    "* If it is a closed shape and the starting point is outside the shape then it should fill the outside of the shape (picture 3 below).\n",
    "* If the starting point is on a cell which has already the color to be filled, the algorithm is done.\n",
    "* It's unknown what is in the buffer. There could be a closed shape or not. There could be an open shape or line or just 1 cell filled. The buffer could be even empty.\n",
    "* You should work in the buffer directly.\n"
   ]
  },
  {
   "cell_type": "code",
   "execution_count": 1,
   "metadata": {},
   "outputs": [],
   "source": [
    "from enum import Enum\n",
    "from typing import List"
   ]
  },
  {
   "cell_type": "code",
   "execution_count": 2,
   "metadata": {},
   "outputs": [],
   "source": [
    "class Color(Enum):\n",
    "    BLACK = 0\n",
    "    WHITE = 1"
   ]
  },
  {
   "cell_type": "code",
   "execution_count": 4,
   "metadata": {},
   "outputs": [],
   "source": [
    "def flood_fill(buf: List[List[Color]], start_x: int, start_y: int, fill_color: Color):\n",
    "    # some code here please ...\n",
    "    return"
   ]
  },
  {
   "cell_type": "markdown",
   "metadata": {},
   "source": [
    "```\n",
    "....................\n",
    "....................\n",
    ".....xxxxx..........\n",
    ".....x...x.xxxx.....\n",
    ".....x...xxx..x.....\n",
    ".....x........x.....\n",
    "......x.......x.....\n",
    ".......x......x.....\n",
    "........x....x......\n",
    ".......x....x.......\n",
    "......x....x........\n",
    "......xxxxx.........\n",
    "....................\n",
    "....................\n",
    "\n",
    "....................\n",
    "....................\n",
    ".....xxxxx..........\n",
    ".....xxxxx.xxxx.....\n",
    ".....xxxxxxxxxx.....\n",
    ".....xxxxxxxxxx.....\n",
    "......xxxxxxxxx.....\n",
    ".......xxxxxxxx.....\n",
    "........xxxxxx......\n",
    ".......xxxxxx.......\n",
    "......xxxxxx........\n",
    "......xxxxx.........\n",
    "....................\n",
    "....................\n",
    "\n",
    "xxxxxxxxxxxxxxxxxxxx\n",
    "xxxxxxxxxxxxxxxxxxxx\n",
    "xxxxxxxxxxxxxxxxxxxx\n",
    "xxxxxx...xxxxxxxxxxx\n",
    "xxxxxx...xxx..xxxxxx\n",
    "xxxxxx........xxxxxx\n",
    "xxxxxxx.......xxxxxx\n",
    "xxxxxxxx......xxxxxx\n",
    "xxxxxxxxx....xxxxxxx\n",
    "xxxxxxxx....xxxxxxxx\n",
    "xxxxxxx....xxxxxxxxx\n",
    "xxxxxxxxxxxxxxxxxxxx\n",
    "xxxxxxxxxxxxxxxxxxxx\n",
    "xxxxxxxxxxxxxxxxxxxx\n",
    "```"
   ]
  }
 ],
 "metadata": {
  "kernelspec": {
   "display_name": "Python 3 (ipykernel)",
   "language": "python",
   "name": "python3"
  },
  "language_info": {
   "codemirror_mode": {
    "name": "ipython",
    "version": 3
   },
   "file_extension": ".py",
   "mimetype": "text/x-python",
   "name": "python",
   "nbconvert_exporter": "python",
   "pygments_lexer": "ipython3",
   "version": "3.7.12"
  }
 },
 "nbformat": 4,
 "nbformat_minor": 4
}
